{
 "cells": [
  {
   "metadata": {
    "ExecuteTime": {
     "end_time": "2024-09-15T15:20:54.364290Z",
     "start_time": "2024-09-15T15:20:54.360561Z"
    }
   },
   "cell_type": "code",
   "source": [
    "from PIL import Image, ImageDraw, ImageFont\n",
    "import matplotlib.pyplot as plt\n",
    "import textwrap\n",
    "import random\n",
    "import string\n",
    "import itertools\n",
    "import base64\n",
    "import io\n",
    "from tqdm.auto import tqdm\n",
    "import json"
   ],
   "id": "ad4a16e6d3b1a36a",
   "outputs": [],
   "execution_count": 4
  },
  {
   "metadata": {
    "ExecuteTime": {
     "end_time": "2024-09-15T14:51:53.122786Z",
     "start_time": "2024-09-15T14:51:53.118454Z"
    }
   },
   "cell_type": "code",
   "source": [
    "# Generate random text with all printable ascii characters\n",
    "def gen_random_text(length):\n",
    "    return ''.join(random.choices(string.ascii_letters + string.digits + string.punctuation + ' ', k=length))\n",
    "\n",
    "\n",
    "def gen_random_page(font):\n",
    "    img = Image.new('RGB', (210 * 4, 297 * 4), 'white')\n",
    "\n",
    "    image_draw = ImageDraw.Draw(img)\n",
    "    \n",
    "    txt = gen_random_text(random.randint(1, 2000))\n",
    "    image_draw.multiline_text((100, 100), '\\n'.join([''.join(x) for x in itertools.batched(txt, 60)]), fill=(0, 0, 0),\n",
    "                              font=font)\n",
    "\n",
    "    buffer = io.BytesIO()\n",
    "    img.save(buffer, format='PNG')\n",
    "    \n",
    "    # Get the byte content\n",
    "    img_bytes = buffer.getvalue()\n",
    "    \n",
    "    # Encode the bytes to base64\n",
    "    base64_bytes = base64.b64encode(img_bytes)\n",
    "    base64_string = f\"data:image/png;base64,{base64_bytes.decode('utf-8')}\"\n",
    "    return base64_string, txt\n",
    "\n"
   ],
   "id": "9e7ef3d5142a5429",
   "outputs": [],
   "execution_count": 2
  },
  {
   "metadata": {
    "ExecuteTime": {
     "end_time": "2024-09-15T15:07:28.838640Z",
     "start_time": "2024-09-15T14:51:54.334333Z"
    }
   },
   "cell_type": "code",
   "source": [
    "# '\\n'.join(textwrap.wrap(txt, width=60, break_long_words=True, break_on_hyphens=False))\n",
    "font = ImageFont.truetype('arial/arial.ttf', 20)\n",
    "# a4 210 x 297 mm\n",
    "# Create empty image\n",
    "dataset = []\n",
    "for _ in tqdm(range(10_000)):\n",
    "    dataset.append(gen_random_page(font))\n",
    "\n",
    "# plot the image\n",
    "# plt.figure(figsize=(5, 5))\n",
    "# plt.imshow(img)"
   ],
   "id": "a25fe0ce8c5a7f6a",
   "outputs": [
    {
     "data": {
      "text/plain": [
       "  0%|          | 0/10000 [00:00<?, ?it/s]"
      ],
      "application/vnd.jupyter.widget-view+json": {
       "version_major": 2,
       "version_minor": 0,
       "model_id": "58304eb3ef5b4d099b4464ec5e39a130"
      }
     },
     "metadata": {},
     "output_type": "display_data"
    }
   ],
   "execution_count": 3
  },
  {
   "metadata": {
    "ExecuteTime": {
     "end_time": "2024-09-15T15:21:06.250590Z",
     "start_time": "2024-09-15T15:21:00.381870Z"
    }
   },
   "cell_type": "code",
   "source": [
    "\n",
    "with open('dataset.json', 'w') as f:\n",
    "    json.dump(dataset, f)"
   ],
   "id": "f485ed4c6ddc88cf",
   "outputs": [],
   "execution_count": 5
  },
  {
   "metadata": {},
   "cell_type": "code",
   "outputs": [],
   "execution_count": null,
   "source": "",
   "id": "ccdb7cabf8a71469"
  }
 ],
 "metadata": {
  "kernelspec": {
   "display_name": "Python 3",
   "language": "python",
   "name": "python3"
  },
  "language_info": {
   "codemirror_mode": {
    "name": "ipython",
    "version": 2
   },
   "file_extension": ".py",
   "mimetype": "text/x-python",
   "name": "python",
   "nbconvert_exporter": "python",
   "pygments_lexer": "ipython2",
   "version": "2.7.6"
  }
 },
 "nbformat": 4,
 "nbformat_minor": 5
}
