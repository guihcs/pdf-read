{
 "cells": [
  {
   "cell_type": "code",
   "metadata": {
    "collapsed": true,
    "ExecuteTime": {
     "end_time": "2024-09-17T16:56:24.271541349Z",
     "start_time": "2024-09-17T16:55:31.661535Z"
    }
   },
   "source": [
    "import math\n",
    "import json\n",
    "\n",
    "import math\n",
    "import torch\n",
    "import torch.nn as nn\n",
    "import matplotlib.pyplot as plt\n",
    "import base64\n",
    "import io\n",
    "from PIL import Image\n",
    "import numpy as np\n",
    "import torch.optim as optim\n",
    "from torch.utils.data import DataLoader, TensorDataset\n",
    "from transformers import AutoTokenizer\n",
    "import cv2\n",
    "from tqdm.auto import tqdm\n",
    "import torch.utils.checkpoint as checkpoint\n",
    "\n",
    "torch.backends.cuda.enable_flash_sdp(True)\n",
    "# set white background in matplotlib\n",
    "plt.rcParams['figure.facecolor'] = 'white'"
   ],
   "outputs": [],
   "execution_count": 2
  },
  {
   "cell_type": "code",
   "source": [
    "# data_path = '/projets/melodi/gsantoss/pages.json'\n",
    "data_path = '/projets/melodi/gsantoss/pdf/dataset.json'\n",
    "\n",
    "with open(data_path) as f:\n",
    "    data = json.load(f)\n",
    "\n",
    "def slice_image(img, size=16, stride=16):\n",
    "    p_imag = img.unfold(0, size, stride).unfold(1, size, stride)\n",
    "    return torch.flatten(p_imag, 0, end_dim=1)\n",
    "\n",
    "tokenizer = AutoTokenizer.from_pretrained('google/byt5-small')\n",
    "\n",
    "imgs = []\n",
    "texts = []\n",
    "\n",
    "for doc_image, doc_text in tqdm(data):\n",
    "    # doc_image, doc_text = d['image'], d['text']\n",
    "    try:\n",
    "        img = base64.b64decode(doc_image[22:])\n",
    "        img = torch.from_numpy(np.array(Image.open(io.BytesIO(img)))) \n",
    "\n",
    "        # convert image to grayscale using cv2\n",
    "        img = cv2.cvtColor(img.numpy(), cv2.COLOR_BGR2GRAY)\n",
    "        img = torch.from_numpy(img) / 255.0\n",
    "        \n",
    "        # resize image to 517x400        \n",
    "        img = nn.functional.interpolate(img.unsqueeze(0).unsqueeze(0), size=(517, 400), mode='bilinear', align_corners=False).squeeze(0).squeeze(0)\n",
    "        imgs.append(torch.flatten(slice_image(img, size=16, stride=16), start_dim=1).unsqueeze(0))\n",
    "\n",
    "        texts.append('<s>' + doc_text)\n",
    "    except:\n",
    "        break\n",
    "        pass\n",
    "    \n",
    "tokens = tokenizer(texts, return_tensors='pt', padding=True)\n",
    "input_ids = tokens['input_ids']\n",
    "attention_mask = tokens['attention_mask']\n",
    "print(input_ids.shape, attention_mask.shape)\n",
    "dataset = TensorDataset(torch.cat(imgs, dim=0).float(), input_ids, attention_mask)"
   ],
   "metadata": {
    "collapsed": false,
    "ExecuteTime": {
     "end_time": "2024-09-17T17:04:57.415034Z",
     "start_time": "2024-09-17T17:01:38.584313Z"
    }
   },
   "outputs": [
    {
     "data": {
      "text/plain": [
       "  0%|          | 0/10000 [00:00<?, ?it/s]"
      ],
      "application/vnd.jupyter.widget-view+json": {
       "version_major": 2,
       "version_minor": 0,
       "model_id": "7f111cd08a04498281f872606842d329"
      }
     },
     "metadata": {},
     "output_type": "display_data"
    },
    {
     "name": "stdout",
     "output_type": "stream",
     "text": [
      "torch.Size([10000, 2004]) torch.Size([10000, 2004])\n"
     ]
    }
   ],
   "execution_count": 10
  },
  {
   "cell_type": "code",
   "source": [
    "vit = VitXl(tokenizer.vocab_size, 256, 512, 4, 1024, 2, max_len=800, seq_len=512, mem_len=64)\n",
    "pretrain = PretrainVit(vit, tokenizer.vocab_size, v_dim=256, n_dim=512)\n",
    "\n",
    "# checkpoint = torch.load('/projets/melodi/gsantoss/models/checkpoint_pdfre.pt')\n",
    "# model.load_state_dict(checkpoint['model_state_dict'])\n",
    "pretrain = nn.DataParallel(pretrain)\n",
    "pretrain.cuda(0)\n",
    "pretrain.train()\n",
    "crit1 = nn.BCELoss()\n",
    "crit2 = nn.NLLLoss(reduction='none')\n",
    "\n",
    "optimizer = optim.Adam(pretrain.parameters(), lr=0.00003)\n",
    "# optimizer.load_state_dict(checkpoint['optimizer_state_dict'])\n",
    "batch_size = 16\n",
    "epochs = 150\n",
    "progress = tqdm(total=epochs * math.ceil(len(dataset) / batch_size))\n",
    "lowest_loss = float('inf')\n",
    "lh = []\n",
    "epoch = 0\n",
    "\n",
    "\n",
    "compiled = pretrain\n",
    "\n",
    "# lh = checkpoint['loss']\n",
    "# epoch = checkpoint['epoch']\n",
    "\n",
    "progress.update(epoch * math.ceil(len(dataset) / batch_size))\n",
    "\n",
    "for epoch in range(epoch, epochs):\n",
    "    el = []\n",
    "    for x, y, ya in DataLoader(dataset, batch_size=batch_size, shuffle=True):\n",
    "        optimizer.zero_grad()\n",
    "        \n",
    "        with torch.no_grad():\n",
    "            vn = torch.randn_like(x).cuda(0)\n",
    "            tn = torch.randint_like(y, 0, tokenizer.vocab_size).cuda(0)\n",
    "    \n",
    "            vnm = torch.rand(x.shape[0], x.shape[1]) < 0.15\n",
    "            tnm = torch.rand(y.shape[0], y.shape[1]) < 0.15\n",
    "    \n",
    "            vn *= vnm.unsqueeze(-1).float().cuda(0)\n",
    "            tn *= tnm.long().cuda(0)\n",
    "    \n",
    "            x = torch.clamp(x.cuda(0) + vn, 0, 1)\n",
    "            y = torch.clamp(y.cuda(0) + tn, 0, tokenizer.vocab_size - 1)\n",
    "    \n",
    "            vn = torch.rand(x.shape[0], x.shape[1]) > 0.85\n",
    "    \n",
    "            x *= vn.unsqueeze(-1).float().cuda(0)\n",
    "        \n",
    "        with torch.cuda.amp.autocast():\n",
    "            r1, r2 = compiled(x.cuda(0), y.long().cuda(0))\n",
    "\n",
    "        l1 = crit1(r1.float().cpu(), x.cpu())\n",
    "\n",
    "        rf = torch.flatten(r2[:, :-1, :].float().cpu(), start_dim=0, end_dim=1)\n",
    "        yf = torch.flatten(y[:, 1:], start_dim=0, end_dim=1).cpu()\n",
    "        l2 = crit2(rf, yf) * (yf != 0).float()\n",
    "        l2 = l2.sum() / (yf != 0).float().sum()\n",
    "    \n",
    "        loss = l1 + l2\n",
    "\n",
    "        loss.backward()\n",
    "        el.append(loss.item())\n",
    "        optimizer.step()\n",
    "        progress.update(1)\n",
    "\n",
    "    lh.append(sum(el) / len(el))\n",
    "    if lh[-1] < lowest_loss:\n",
    "        lowest_loss = lh[-1]\n",
    "        torch.save({\n",
    "            'epoch': epoch,\n",
    "            'model_state_dict': pretrain.module.state_dict(),\n",
    "            'optimizer_state_dict': optimizer.state_dict(),\n",
    "            'loss': lh,\n",
    "        }, '/projets/melodi/gsantoss/models/checkpoint_pdfre.pt')\n",
    "    \n",
    "\n",
    "\n",
    "progress.close()\n",
    "fig, ax = plt.subplots(1, 2)\n",
    "fig.tight_layout()\n",
    "ax[0].plot(lh)\n",
    "plt.show()\n",
    "\n",
    "\n",
    "torch.save({\n",
    "            'epoch': epoch,\n",
    "            'model_state_dict': pretrain.module.state_dict(),\n",
    "            'optimizer_state_dict': optimizer.state_dict(),\n",
    "            'loss': lh,\n",
    "            }, '/projets/melodi/gsantoss/models/checkpoint_pdfre.pt')\n",
    "\n",
    "torch.save(pretrain.module.vit.state_dict(), '/projets/melodi/gsantoss/models/pdfreb.pt' )\n",
    "print(f'loss: {lh[-1]:0.2f}')"
   ],
   "metadata": {
    "collapsed": false,
    "ExecuteTime": {
     "end_time": "2024-09-17T17:06:22.010772740Z",
     "start_time": "2024-09-17T17:06:07.983977Z"
    }
   },
   "outputs": [
    {
     "data": {
      "text/plain": [
       "  0%|          | 0/93750 [00:00<?, ?it/s]"
      ],
      "application/vnd.jupyter.widget-view+json": {
       "version_major": 2,
       "version_minor": 0,
       "model_id": "e4f9d7301c6a4d6797cb74f62e1dc216"
      }
     },
     "metadata": {},
     "output_type": "display_data"
    },
    {
     "ename": "KeyboardInterrupt",
     "evalue": "",
     "output_type": "error",
     "traceback": [
      "\u001B[0;31m---------------------------------------------------------------------------\u001B[0m",
      "\u001B[0;31mKeyboardInterrupt\u001B[0m                         Traceback (most recent call last)",
      "Cell \u001B[0;32mIn[15], line 63\u001B[0m\n\u001B[1;32m     59\u001B[0m l2 \u001B[38;5;241m=\u001B[39m l2\u001B[38;5;241m.\u001B[39msum() \u001B[38;5;241m/\u001B[39m (yf \u001B[38;5;241m!=\u001B[39m \u001B[38;5;241m0\u001B[39m)\u001B[38;5;241m.\u001B[39mfloat()\u001B[38;5;241m.\u001B[39msum()\n\u001B[1;32m     61\u001B[0m loss \u001B[38;5;241m=\u001B[39m l1 \u001B[38;5;241m+\u001B[39m l2\n\u001B[0;32m---> 63\u001B[0m \u001B[43mloss\u001B[49m\u001B[38;5;241;43m.\u001B[39;49m\u001B[43mbackward\u001B[49m\u001B[43m(\u001B[49m\u001B[43m)\u001B[49m\n\u001B[1;32m     64\u001B[0m el\u001B[38;5;241m.\u001B[39mappend(loss\u001B[38;5;241m.\u001B[39mitem())\n\u001B[1;32m     65\u001B[0m optimizer\u001B[38;5;241m.\u001B[39mstep()\n",
      "File \u001B[0;32m/projets/melodi/gsantoss/miniconda3/envs/myenv/lib/python3.11/site-packages/torch/_tensor.py:525\u001B[0m, in \u001B[0;36mTensor.backward\u001B[0;34m(self, gradient, retain_graph, create_graph, inputs)\u001B[0m\n\u001B[1;32m    515\u001B[0m \u001B[38;5;28;01mif\u001B[39;00m has_torch_function_unary(\u001B[38;5;28mself\u001B[39m):\n\u001B[1;32m    516\u001B[0m     \u001B[38;5;28;01mreturn\u001B[39;00m handle_torch_function(\n\u001B[1;32m    517\u001B[0m         Tensor\u001B[38;5;241m.\u001B[39mbackward,\n\u001B[1;32m    518\u001B[0m         (\u001B[38;5;28mself\u001B[39m,),\n\u001B[0;32m   (...)\u001B[0m\n\u001B[1;32m    523\u001B[0m         inputs\u001B[38;5;241m=\u001B[39minputs,\n\u001B[1;32m    524\u001B[0m     )\n\u001B[0;32m--> 525\u001B[0m \u001B[43mtorch\u001B[49m\u001B[38;5;241;43m.\u001B[39;49m\u001B[43mautograd\u001B[49m\u001B[38;5;241;43m.\u001B[39;49m\u001B[43mbackward\u001B[49m\u001B[43m(\u001B[49m\n\u001B[1;32m    526\u001B[0m \u001B[43m    \u001B[49m\u001B[38;5;28;43mself\u001B[39;49m\u001B[43m,\u001B[49m\u001B[43m \u001B[49m\u001B[43mgradient\u001B[49m\u001B[43m,\u001B[49m\u001B[43m \u001B[49m\u001B[43mretain_graph\u001B[49m\u001B[43m,\u001B[49m\u001B[43m \u001B[49m\u001B[43mcreate_graph\u001B[49m\u001B[43m,\u001B[49m\u001B[43m \u001B[49m\u001B[43minputs\u001B[49m\u001B[38;5;241;43m=\u001B[39;49m\u001B[43minputs\u001B[49m\n\u001B[1;32m    527\u001B[0m \u001B[43m\u001B[49m\u001B[43m)\u001B[49m\n",
      "File \u001B[0;32m/projets/melodi/gsantoss/miniconda3/envs/myenv/lib/python3.11/site-packages/torch/autograd/__init__.py:267\u001B[0m, in \u001B[0;36mbackward\u001B[0;34m(tensors, grad_tensors, retain_graph, create_graph, grad_variables, inputs)\u001B[0m\n\u001B[1;32m    262\u001B[0m     retain_graph \u001B[38;5;241m=\u001B[39m create_graph\n\u001B[1;32m    264\u001B[0m \u001B[38;5;66;03m# The reason we repeat the same comment below is that\u001B[39;00m\n\u001B[1;32m    265\u001B[0m \u001B[38;5;66;03m# some Python versions print out the first line of a multi-line function\u001B[39;00m\n\u001B[1;32m    266\u001B[0m \u001B[38;5;66;03m# calls in the traceback and some print out the last line\u001B[39;00m\n\u001B[0;32m--> 267\u001B[0m \u001B[43m_engine_run_backward\u001B[49m\u001B[43m(\u001B[49m\n\u001B[1;32m    268\u001B[0m \u001B[43m    \u001B[49m\u001B[43mtensors\u001B[49m\u001B[43m,\u001B[49m\n\u001B[1;32m    269\u001B[0m \u001B[43m    \u001B[49m\u001B[43mgrad_tensors_\u001B[49m\u001B[43m,\u001B[49m\n\u001B[1;32m    270\u001B[0m \u001B[43m    \u001B[49m\u001B[43mretain_graph\u001B[49m\u001B[43m,\u001B[49m\n\u001B[1;32m    271\u001B[0m \u001B[43m    \u001B[49m\u001B[43mcreate_graph\u001B[49m\u001B[43m,\u001B[49m\n\u001B[1;32m    272\u001B[0m \u001B[43m    \u001B[49m\u001B[43minputs\u001B[49m\u001B[43m,\u001B[49m\n\u001B[1;32m    273\u001B[0m \u001B[43m    \u001B[49m\u001B[43mallow_unreachable\u001B[49m\u001B[38;5;241;43m=\u001B[39;49m\u001B[38;5;28;43;01mTrue\u001B[39;49;00m\u001B[43m,\u001B[49m\n\u001B[1;32m    274\u001B[0m \u001B[43m    \u001B[49m\u001B[43maccumulate_grad\u001B[49m\u001B[38;5;241;43m=\u001B[39;49m\u001B[38;5;28;43;01mTrue\u001B[39;49;00m\u001B[43m,\u001B[49m\n\u001B[1;32m    275\u001B[0m \u001B[43m\u001B[49m\u001B[43m)\u001B[49m\n",
      "File \u001B[0;32m/projets/melodi/gsantoss/miniconda3/envs/myenv/lib/python3.11/site-packages/torch/autograd/graph.py:744\u001B[0m, in \u001B[0;36m_engine_run_backward\u001B[0;34m(t_outputs, *args, **kwargs)\u001B[0m\n\u001B[1;32m    742\u001B[0m     unregister_hooks \u001B[38;5;241m=\u001B[39m _register_logging_hooks_on_whole_graph(t_outputs)\n\u001B[1;32m    743\u001B[0m \u001B[38;5;28;01mtry\u001B[39;00m:\n\u001B[0;32m--> 744\u001B[0m     \u001B[38;5;28;01mreturn\u001B[39;00m \u001B[43mVariable\u001B[49m\u001B[38;5;241;43m.\u001B[39;49m\u001B[43m_execution_engine\u001B[49m\u001B[38;5;241;43m.\u001B[39;49m\u001B[43mrun_backward\u001B[49m\u001B[43m(\u001B[49m\u001B[43m  \u001B[49m\u001B[38;5;66;43;03m# Calls into the C++ engine to run the backward pass\u001B[39;49;00m\n\u001B[1;32m    745\u001B[0m \u001B[43m        \u001B[49m\u001B[43mt_outputs\u001B[49m\u001B[43m,\u001B[49m\u001B[43m \u001B[49m\u001B[38;5;241;43m*\u001B[39;49m\u001B[43margs\u001B[49m\u001B[43m,\u001B[49m\u001B[43m \u001B[49m\u001B[38;5;241;43m*\u001B[39;49m\u001B[38;5;241;43m*\u001B[39;49m\u001B[43mkwargs\u001B[49m\n\u001B[1;32m    746\u001B[0m \u001B[43m    \u001B[49m\u001B[43m)\u001B[49m  \u001B[38;5;66;03m# Calls into the C++ engine to run the backward pass\u001B[39;00m\n\u001B[1;32m    747\u001B[0m \u001B[38;5;28;01mfinally\u001B[39;00m:\n\u001B[1;32m    748\u001B[0m     \u001B[38;5;28;01mif\u001B[39;00m attach_logging_hooks:\n",
      "\u001B[0;31mKeyboardInterrupt\u001B[0m: "
     ]
    }
   ],
   "execution_count": 15
  },
  {
   "cell_type": "code",
   "execution_count": 5,
   "outputs": [],
   "source": [
    "class PDFReader(nn.Module):\n",
    "    def __init__(self, encoder, vocab_size, d_model=768, dim_feedforward=2048):\n",
    "        super(PDFReader, self).__init__()\n",
    "        self.encoder = encoder\n",
    "\n",
    "        self.ll = nn.Sequential(\n",
    "            nn.Linear(d_model, dim_feedforward),\n",
    "            nn.ReLU(),\n",
    "            nn.Dropout(0.1),\n",
    "            nn.Linear(dim_feedforward, vocab_size),\n",
    "            nn.LogSoftmax(dim=-1)\n",
    "        )\n",
    "\n",
    "    def forward(self, x, y):\n",
    "        # vx, vy = self.encoder(x, y)\n",
    "        vx, vy = checkpoint.checkpoint(self.encoder, x, y, use_reentrant=False)\n",
    "\n",
    "        return self.ll(vy)\n",
    "    \n",
    "    \n",
    "    def read(self, tokenizer, x, ml=512, show_progress=False):\n",
    "        \n",
    "        with torch.no_grad():\n",
    "        \n",
    "            vx = self.encoder.vis_encode(x)\n",
    "    \n",
    "            sy = tokenizer.encode('<s>', add_special_tokens=False, return_tensors='pt').to(x.device).repeat(vx.shape[0], 1)\n",
    "            \n",
    "            rg = range(ml - sy.shape[1])\n",
    "            \n",
    "            if show_progress:\n",
    "                rg = tqdm(rg)\n",
    "                \n",
    "            mem = None\n",
    "            \n",
    "            yp = sy\n",
    "            \n",
    "            for i in rg:\n",
    "                td, nm = self.encoder.text_decode(vx, yp, mem=mem)\n",
    "                et = td[:, -1, :]\n",
    "                dc = self.ll(et).exp().argmax(dim=-1).unsqueeze(1)\n",
    "                sy = torch.cat([sy, dc], dim=-1)\n",
    "    \n",
    "                yp = torch.cat([yp, dc], dim=-1)\n",
    "                \n",
    "                if yp.shape[1] >= self.encoder.seq_len:\n",
    "                    mem = nm\n",
    "                    yp = dc\n",
    "                    \n",
    "    \n",
    "            return sy\n",
    "    "
   ],
   "metadata": {
    "collapsed": false,
    "ExecuteTime": {
     "end_time": "2024-01-20T13:37:30.847290473Z",
     "start_time": "2024-01-20T13:37:30.795802001Z"
    }
   }
  },
  {
   "cell_type": "code",
   "outputs": [],
   "source": [
    "def model_eval(tokenizer, model, data, batch_size=32, ml=512):\n",
    "    pred = 0\n",
    "    total = 0\n",
    "    model.eval()\n",
    "    with torch.no_grad():\n",
    "        for x, ym, ya in DataLoader(data, batch_size=batch_size):\n",
    "            res = model.read(tokenizer, x.cuda(0), ml=ml).cpu()\n",
    "            comp = res == ym[:, :ml]\n",
    "            pred += torch.sum(comp.float() * (ym[:, :ml] != 0).float())\n",
    "            total += torch.sum((ym[:, :ml] != 0).float())\n",
    "\n",
    "    model.train()\n",
    "    return pred / total"
   ],
   "metadata": {
    "collapsed": false,
    "ExecuteTime": {
     "end_time": "2024-01-20T13:37:30.849375396Z",
     "start_time": "2024-01-20T13:37:30.806593050Z"
    }
   },
   "execution_count": 6
  },
  {
   "cell_type": "code",
   "execution_count": 7,
   "outputs": [
    {
     "name": "stderr",
     "output_type": "stream",
     "text": [
      "/projets/melodi/gsantoss/miniconda3/envs/myenv/lib/python3.11/site-packages/torch/nn/modules/transformer.py:282: UserWarning: enable_nested_tensor is True, but self.use_nested_tensor is False because encoder_layer.norm_first was True\n",
      "  warnings.warn(f\"enable_nested_tensor is True, but self.use_nested_tensor is False because {why_not_sparsity_fast_path}\")\n"
     ]
    },
    {
     "data": {
      "text/plain": "  0%|          | 0/15600 [00:00<?, ?it/s]",
      "application/vnd.jupyter.widget-view+json": {
       "version_major": 2,
       "version_minor": 0,
       "model_id": "1cabe3ffbeb64359b8363b1912ba3928"
      }
     },
     "metadata": {},
     "output_type": "display_data"
    },
    {
     "data": {
      "text/plain": "<Figure size 640x480 with 2 Axes>",
      "image/png": "[encoded data removed]"
     },
     "metadata": {},
     "output_type": "display_data"
    },
    {
     "name": "stdout",
     "output_type": "stream",
     "text": [
      "loss: 0.86, acc: 0.08\n"
     ]
    }
   ],
   "source": [
    "\n",
    "vit = VitXl(tokenizer.vocab_size, 256, 512, 4, 1024, 2, max_len=800, seq_len=512, mem_len=64)\n",
    "# vit.load_state_dict(torch.load('/projets/melodi/gsantoss/models/pdfre.pt'))\n",
    "\n",
    "model = PDFReader(vit, tokenizer.vocab_size, d_model=512, dim_feedforward=1024)\n",
    "\n",
    "model = nn.DataParallel(model)\n",
    "model.cuda(0)\n",
    "\n",
    "crit = nn.NLLLoss(reduction='none')\n",
    "optimizer = optim.Adam(model.parameters(), lr=0.00003)\n",
    "batch_size = 32\n",
    "epochs = 1200\n",
    "lh = []\n",
    "th = []\n",
    "test = TensorDataset(*dataset[:10])\n",
    "train = TensorDataset(*dataset[10:])\n",
    "val = TensorDataset(*dataset[10:100])\n",
    "progress = tqdm(total=epochs * math.ceil(len(train) / batch_size))\n",
    "\n",
    "compiled = model\n",
    "\n",
    "for e in range(epochs):\n",
    "    el = []\n",
    "    model.train()\n",
    "    for x, y, ya in DataLoader(train, batch_size=batch_size, shuffle=True):\n",
    "        optimizer.zero_grad()        \n",
    "        res = compiled(x.cuda(0), y.long().cuda(0))\n",
    "        rf = torch.flatten(res[:, :-1, :], start_dim=0, end_dim=1)\n",
    "        yf = torch.flatten(y[:, 1:], start_dim=0, end_dim=1).cuda(0)\n",
    "        loss = crit(rf, yf) * (yf != 0).float()\n",
    "        loss = loss.sum() / (yf != 0).float().sum()\n",
    "        loss.backward()\n",
    "        el.append(loss.item())\n",
    "        optimizer.step()\n",
    "        progress.update(1)\n",
    "\n",
    "    lh.append(sum(el) / len(el))\n",
    "    if e % 100 == 0:\n",
    "        th.append(model_eval(tokenizer, compiled, val, ml=512))\n",
    "\n",
    "progress.close()\n",
    "fig, ax = plt.subplots(1, 2)\n",
    "fig.tight_layout()\n",
    "ax[0].plot(lh)\n",
    "ax[1].plot(th, c='g')\n",
    "plt.show()\n",
    "\n",
    "torch.save(model.module.state_dict(), '/projets/melodi/gsantoss/models/pdfr.pt' )\n",
    "print(f'loss: {lh[-1]:0.2f}, acc: {th[-1]:0.2f}')"
   ],
   "metadata": {
    "collapsed": false,
    "ExecuteTime": {
     "end_time": "2024-01-06T06:58:57.826484440Z",
     "start_time": "2024-01-05T14:52:10.959649810Z"
    }
   }
  },
  {
   "cell_type": "code",
   "outputs": [
    {
     "name": "stderr",
     "output_type": "stream",
     "text": [
      "/projets/melodi/gsantoss/miniconda3/envs/myenv/lib/python3.11/site-packages/torch/nn/modules/transformer.py:282: UserWarning: enable_nested_tensor is True, but self.use_nested_tensor is False because encoder_layer.norm_first was True\n",
      "  warnings.warn(f\"enable_nested_tensor is True, but self.use_nested_tensor is False because {why_not_sparsity_fast_path}\")\n"
     ]
    },
    {
     "data": {
      "text/plain": "PDFReader(\n  (encoder): VitXl(\n    (v_encoder): Sequential(\n      (0): Linear(in_features=256, out_features=1024, bias=True)\n      (1): ReLU()\n      (2): Dropout(p=0.1, inplace=False)\n      (3): Linear(in_features=1024, out_features=512, bias=True)\n      (4): Dropout(p=0.1, inplace=False)\n    )\n    (encoder_layer): TransformerEncoderLayer(\n      (self_attn): MultiheadAttention(\n        (out_proj): NonDynamicallyQuantizableLinear(in_features=512, out_features=512, bias=True)\n      )\n      (linear1): Linear(in_features=512, out_features=1024, bias=True)\n      (dropout): Dropout(p=0.1, inplace=False)\n      (linear2): Linear(in_features=1024, out_features=512, bias=True)\n      (norm1): LayerNorm((512,), eps=1e-05, elementwise_affine=True)\n      (norm2): LayerNorm((512,), eps=1e-05, elementwise_affine=True)\n      (dropout1): Dropout(p=0.1, inplace=False)\n      (dropout2): Dropout(p=0.1, inplace=False)\n    )\n    (encoder): TransformerEncoder(\n      (layers): ModuleList(\n        (0-1): 2 x TransformerEncoderLayer(\n          (self_attn): MultiheadAttention(\n            (out_proj): NonDynamicallyQuantizableLinear(in_features=512, out_features=512, bias=True)\n          )\n          (linear1): Linear(in_features=512, out_features=1024, bias=True)\n          (dropout): Dropout(p=0.1, inplace=False)\n          (linear2): Linear(in_features=1024, out_features=512, bias=True)\n          (norm1): LayerNorm((512,), eps=1e-05, elementwise_affine=True)\n          (norm2): LayerNorm((512,), eps=1e-05, elementwise_affine=True)\n          (dropout1): Dropout(p=0.1, inplace=False)\n          (dropout2): Dropout(p=0.1, inplace=False)\n        )\n      )\n    )\n    (embedding): Embedding(256, 512, padding_idx=0)\n    (decoder): Decoder(\n      (layers): ModuleList(\n        (0-1): 2 x DecoderLayer(\n          (ln1): LayerNorm((512,), eps=1e-05, elementwise_affine=True)\n          (rmha): RelAttention(\n            (qw): Linear(in_features=512, out_features=512, bias=True)\n            (kw): Linear(in_features=512, out_features=512, bias=True)\n            (vw): Linear(in_features=512, out_features=512, bias=True)\n            (drop): Dropout(p=0.1, inplace=False)\n            (cw): Linear(in_features=512, out_features=512, bias=True)\n          )\n          (dropout1): Dropout(p=0.1, inplace=False)\n          (ln2): LayerNorm((512,), eps=1e-05, elementwise_affine=True)\n          (ca): MultiheadAttention(\n            (out_proj): NonDynamicallyQuantizableLinear(in_features=512, out_features=512, bias=True)\n          )\n          (dropout2): Dropout(p=0.1, inplace=False)\n          (ln3): LayerNorm((512,), eps=1e-05, elementwise_affine=True)\n          (ff): Sequential(\n            (0): Linear(in_features=512, out_features=1024, bias=True)\n            (1): ReLU()\n            (2): Dropout(p=0.1, inplace=False)\n            (3): Linear(in_features=1024, out_features=512, bias=True)\n            (4): Dropout(p=0.1, inplace=False)\n          )\n        )\n      )\n    )\n  )\n  (ll): Sequential(\n    (0): Linear(in_features=512, out_features=1024, bias=True)\n    (1): ReLU()\n    (2): Dropout(p=0.1, inplace=False)\n    (3): Linear(in_features=1024, out_features=256, bias=True)\n    (4): LogSoftmax(dim=-1)\n  )\n)"
     },
     "execution_count": 7,
     "metadata": {},
     "output_type": "execute_result"
    }
   ],
   "source": [
    "vit = VitXl(tokenizer.vocab_size, 256, 512, 4, 1024, 2, max_len=800, seq_len=512, mem_len=64)\n",
    "# vit.load_state_dict(torch.load('/projets/melodi/gsantoss/models/pdfre.pt'))\n",
    "\n",
    "model = PDFReader(vit, tokenizer.vocab_size, d_model=512, dim_feedforward=1024)\n",
    "model.load_state_dict(torch.load('/projets/melodi/gsantoss/models/pdfr.pt'))\n",
    "model.cuda(0)\n",
    "# x, y, ya = train[0]\n",
    "# \n",
    "# out = read(model, tokenizer, x.cuda(0), ml=1024, show_progress=True)\n",
    "# tokenizer.decode(out)"
   ],
   "metadata": {
    "collapsed": false,
    "ExecuteTime": {
     "end_time": "2024-01-20T13:37:41.415272938Z",
     "start_time": "2024-01-20T13:37:30.831530296Z"
    }
   },
   "execution_count": 7
  },
  {
   "cell_type": "code",
   "outputs": [
    {
     "data": {
      "text/plain": "tensor(0.6811)"
     },
     "execution_count": 9,
     "metadata": {},
     "output_type": "execute_result"
    }
   ],
   "source": [
    "test = TensorDataset(*dataset[:10])\n",
    "val = TensorDataset(*dataset[10:100])\n",
    "model_eval(tokenizer, model, val, ml=512)"
   ],
   "metadata": {
    "collapsed": false,
    "ExecuteTime": {
     "end_time": "2024-01-20T13:39:49.267523311Z",
     "start_time": "2024-01-20T13:38:34.672774094Z"
    }
   },
   "execution_count": 9
  },
  {
   "cell_type": "code",
   "execution_count": 11,
   "outputs": [
    {
     "name": "stdout",
     "output_type": "stream",
     "text": [
      "<s>![Figure 4: Comparing how models continue a prime (top left). Repeated motives and structure are seen in samples from Transformer with relative attention (top row), but less so from baseline Transformer (middle row) and PerformanceRNN (LSTM) (bottom row).](79,220)\n",
      "\n",
      "### QUALITATIVE PRIMING EXPERIMENTS\n",
      "\n",
      "When primed with an initial motif (Chopin's Étude Op. 10, No. 5) shown in the top left corner of Figure 4, we see the models perform qualitatively differently. Transformer with relative attention elaborates\n"
     ]
    },
    {
     "data": {
      "text/plain": "  0%|          | 0/509 [00:00<?, ?it/s]",
      "application/vnd.jupyter.widget-view+json": {
       "version_major": 2,
       "version_minor": 0,
       "model_id": "9ee9f59a11db45f8964e1c70e17e7b67"
      }
     },
     "metadata": {},
     "output_type": "display_data"
    },
    {
     "name": "stdout",
     "output_type": "stream",
     "text": [
      "torch.Size([1, 512])\n",
      "--------------------------------------------------\n",
      "<s>![Figure 4: Comparing how models continue a prime (top left). Repeated motives and structure are seen in samples from Transformer with relative attention (top row), but less so from baseline Transformer (middle row) and PerformanceRNN (LSTM) (bottom row).](79,220)\n",
      "\n",
      "### QUALITATIVE PRIMING EXPERIMENTS\n",
      "\n",
      "When primed with an initial motif (Chopin's Étude Op. 10, No. 5) shown in the top left corner of Figure 4, we see the models perform qualitatively differently. Transformer with relative attention elaborate\n"
     ]
    }
   ],
   "source": [
    "x, y, ya = val[0]\n",
    "\n",
    "print(tokenizer.decode(y)[:512])\n",
    "model.eval()\n",
    "model.cuda(0)\n",
    "out = model.read(tokenizer, x.cuda(0).unsqueeze(0), ml=512, show_progress=True)\n",
    "print(out.shape)\n",
    "print('-' * 50)\n",
    "print(tokenizer.decode(out.squeeze(0).tolist()))\n"
   ],
   "metadata": {
    "collapsed": false,
    "ExecuteTime": {
     "end_time": "2024-01-20T13:42:44.314815836Z",
     "start_time": "2024-01-20T13:42:41.331619314Z"
    }
   }
  },
  {
   "cell_type": "code",
   "outputs": [],
   "source": [],
   "metadata": {
    "collapsed": false
   },
   "execution_count": null
  }
 ],
 "metadata": {
  "kernelspec": {
   "name": "myenv",
   "language": "python",
   "display_name": "Python (myenv)"
  },
  "language_info": {
   "codemirror_mode": {
    "name": "ipython",
    "version": 2
   },
   "file_extension": ".py",
   "mimetype": "text/x-python",
   "name": "python",
   "nbconvert_exporter": "python",
   "pygments_lexer": "ipython2",
   "version": "2.7.6"
  }
 },
 "nbformat": 4,
 "nbformat_minor": 0
}
